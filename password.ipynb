{
 "cells": [
  {
   "cell_type": "markdown",
   "metadata": {},
   "source": [
    "### Import libraries"
   ]
  },
  {
   "cell_type": "code",
   "execution_count": 1,
   "metadata": {},
   "outputs": [],
   "source": [
    "import random\n",
    "import string"
   ]
  },
  {
   "cell_type": "markdown",
   "metadata": {},
   "source": [
    "### Define functions\n",
    "* Any random word in certain length"
   ]
  },
  {
   "cell_type": "code",
   "execution_count": 2,
   "metadata": {},
   "outputs": [],
   "source": [
    "def generate_word(length):\n",
    "    result = ''\n",
    "    \n",
    "    x = ''.join(random.sample(string.ascii_letters + string.digits, k=length))\n",
    "    # ascii_letters: 문자, digits: 숫자\n",
    "    \n",
    "    return x"
   ]
  },
  {
   "cell_type": "markdown",
   "metadata": {},
   "source": [
    "* Population in given size and length"
   ]
  },
  {
   "cell_type": "code",
   "execution_count": 3,
   "metadata": {},
   "outputs": [],
   "source": [
    "def generate_population(size, min_len, max_len):\n",
    "    population = []\n",
    "    \n",
    "    for i in range(size):\n",
    "        \n",
    "        length = random.randint(min_len, max_len)\n",
    "        # random.randint(a,b): a,b사이에서 랜덤으로 정수 추출\n",
    "        \n",
    "        population.append(generate_word(length))\n",
    "        \n",
    "    return population"
   ]
  },
  {
   "cell_type": "markdown",
   "metadata": {},
   "source": [
    "* Fitness of the candidates"
   ]
  },
  {
   "cell_type": "code",
   "execution_count": 4,
   "metadata": {},
   "outputs": [],
   "source": [
    "def fitness(password, test_word):\n",
    "    score = 0\n",
    "\n",
    "    if len(password) != len(test_word):\n",
    "        return score\n",
    "    \n",
    "    else:\n",
    "        len_score = 0.5\n",
    "        score += len_score\n",
    "        # 길이가 맞으면 0.5점 부여\n",
    "        \n",
    "        for i in range(len(password)):\n",
    "            if password[i] == test_word[i]:\n",
    "                score += 1\n",
    "                # 문자와 위치가 맞으면 1점 부여\n",
    "\n",
    "    return score / (len(password) + len_score) * 100"
   ]
  },
  {
   "cell_type": "markdown",
   "metadata": {},
   "source": [
    "* Evaluate the performance of candidates"
   ]
  },
  {
   "cell_type": "code",
   "execution_count": 5,
   "metadata": {},
   "outputs": [],
   "source": [
    "def compute_performace(population, password):\n",
    "    performance_list = []\n",
    "    \n",
    "    for chromosome in population:\n",
    "        score = fitness(password, chromosome)\n",
    "\n",
    "        if score > 0:\n",
    "            pred_len = len(chromosome)\n",
    "        performance_list.append([chromosome, score])\n",
    "\n",
    "    population_sorted = sorted(performance_list, key=lambda x: x[1], reverse=True)\n",
    "    # sorted(a,b): a에서 b 기준으로 오름차순 (여기서는 score 기준으로 내림차순)\n",
    "    return population_sorted, pred_len"
   ]
  },
  {
   "cell_type": "markdown",
   "metadata": {},
   "source": [
    "* Selecting"
   ]
  },
  {
   "cell_type": "code",
   "execution_count": 6,
   "metadata": {},
   "outputs": [],
   "source": [
    "def select_survivors(population_sorted, best_sample, lucky_sample, password_len):\n",
    "    next_generation = []\n",
    "\n",
    "    for i in range(best_sample):\n",
    "        if population_sorted[i][1] > 0:\n",
    "            next_generation.append(population_sorted[i][0])\n",
    "            # population_sorted에서 가장 점수가 높은 chromosome을 best_sample만큼 가져옴\n",
    "\n",
    "    lucky_survivors = random.sample(population_sorted, k=lucky_sample)\n",
    "    # random.sample(a,b): a에서 b개를 랜덤으로 추출\n",
    "    \n",
    "    for i in lucky_survivors:\n",
    "        next_generation.append(i[0])\n",
    "        # 운좋게 살아남은 survivors 추가\n",
    "        \n",
    "    while len(next_generation) < best_sample + lucky_sample:\n",
    "        next_generation.append(generate_word(length=password_len))\n",
    "        # 다음 세대의 수가 부족하다면 새로운 개체 추가\n",
    "\n",
    "    random.shuffle(next_generation)\n",
    "    return next_generation"
   ]
  },
  {
   "cell_type": "markdown",
   "metadata": {},
   "source": [
    "* Uniform "
   ]
  },
  {
   "cell_type": "code",
   "execution_count": 7,
   "metadata": {},
   "outputs": [],
   "source": [
    "def create_child(chromosome1, chromosome2):\n",
    "    child = ''\n",
    "    min_len_chro = min(len(chromosome1), len(chromosome2))\n",
    "    \n",
    "    for i in range(min_len_chro):\n",
    "        \n",
    "        if (int(100 * random.random()) < 50):\n",
    "            child += chromosome1[i]\n",
    "        else:\n",
    "            child += chromosome2[i]\n",
    "        # 50%의 확률로 부모 중 하나를 따라감\n",
    "            \n",
    "    return child"
   ]
  },
  {
   "cell_type": "code",
   "execution_count": 8,
   "metadata": {},
   "outputs": [],
   "source": [
    "def create_children(parents, num_child):\n",
    "    next_population = []\n",
    "    \n",
    "    for i in range(int(len(parents)/2)):\n",
    "        # 부모 수/2 = 커플 쌍\n",
    "        \n",
    "        for j in range(num_child):\n",
    "            next_population.append(create_child(parents[i], parents[len(parents) - 1 - i]))\n",
    "            # 각 커플쌍마다 num_child 만큼의 자녀 생성\n",
    "            \n",
    "    return next_population"
   ]
  },
  {
   "cell_type": "markdown",
   "metadata": {},
   "source": [
    "* Mutation"
   ]
  },
  {
   "cell_type": "markdown",
   "metadata": {},
   "source": [
    "def mutate_word(word):\n",
    "    idx = int(random.random() * len(word))\n",
    "    \n",
    "    if (idx == 0):\n",
    "        word = random.choice(string.ascii_letters + string.digits) + word[1:]\n",
    "        \n",
    "    else:\n",
    "        word = word[:idx] + random.choice(string.ascii_letters + string.digits) + word[idx+1:]\n",
    "        # 임의로 한자리를 랜덤한 문자/숫자로 변경\n",
    "        \n",
    "    return word"
   ]
  },
  {
   "cell_type": "code",
   "execution_count": 9,
   "metadata": {},
   "outputs": [],
   "source": [
    "def mutate_word(word):\n",
    "    for i in range(len(word)):\n",
    "        if word[i] != password[i]:\n",
    "            word[i] = random.choice(string.ascii_letters + string.digits)\n",
    "            \n",
    "    \n",
    "    return word    "
   ]
  },
  {
   "cell_type": "code",
   "execution_count": 10,
   "metadata": {},
   "outputs": [],
   "source": [
    "def mutate_population(population, chance_of_mutation):\n",
    "    for i in range(len(population)):\n",
    "        if random.random() * 100 < chance_of_mutation:\n",
    "            population[i] = mutate_word(population[i])\n",
    "    return population"
   ]
  },
  {
   "cell_type": "markdown",
   "metadata": {},
   "source": [
    "#### Test"
   ]
  },
  {
   "cell_type": "code",
   "execution_count": 11,
   "metadata": {},
   "outputs": [
    {
     "name": "stdout",
     "output_type": "stream",
     "text": [
      "Password length must be 9\n"
     ]
    },
    {
     "ename": "TypeError",
     "evalue": "'str' object does not support item assignment",
     "output_type": "error",
     "traceback": [
      "\u001b[1;31m---------------------------------------------------------------------------\u001b[0m",
      "\u001b[1;31mTypeError\u001b[0m                                 Traceback (most recent call last)",
      "\u001b[1;32m<ipython-input-11-84ce6c2a7262>\u001b[0m in \u001b[0;36m<module>\u001b[1;34m\u001b[0m\n\u001b[0;32m     23\u001b[0m     \u001b[0mchildren\u001b[0m \u001b[1;33m=\u001b[0m \u001b[0mcreate_children\u001b[0m\u001b[1;33m(\u001b[0m\u001b[0mparents\u001b[0m\u001b[1;33m=\u001b[0m\u001b[0msurvivors\u001b[0m\u001b[1;33m,\u001b[0m \u001b[0mnum_child\u001b[0m\u001b[1;33m=\u001b[0m\u001b[0mnum_child\u001b[0m\u001b[1;33m)\u001b[0m\u001b[1;33m\u001b[0m\u001b[1;33m\u001b[0m\u001b[0m\n\u001b[0;32m     24\u001b[0m \u001b[1;33m\u001b[0m\u001b[0m\n\u001b[1;32m---> 25\u001b[1;33m     \u001b[0mnew_generation\u001b[0m \u001b[1;33m=\u001b[0m \u001b[0mmutate_population\u001b[0m\u001b[1;33m(\u001b[0m\u001b[0mpopulation\u001b[0m\u001b[1;33m=\u001b[0m\u001b[0mchildren\u001b[0m\u001b[1;33m,\u001b[0m \u001b[0mchance_of_mutation\u001b[0m\u001b[1;33m=\u001b[0m\u001b[1;36m10\u001b[0m\u001b[1;33m)\u001b[0m\u001b[1;33m\u001b[0m\u001b[1;33m\u001b[0m\u001b[0m\n\u001b[0m\u001b[0;32m     26\u001b[0m \u001b[1;33m\u001b[0m\u001b[0m\n\u001b[0;32m     27\u001b[0m     \u001b[0mpop\u001b[0m \u001b[1;33m=\u001b[0m \u001b[0mnew_generation\u001b[0m\u001b[1;33m\u001b[0m\u001b[1;33m\u001b[0m\u001b[0m\n",
      "\u001b[1;32m<ipython-input-10-b27f197bf529>\u001b[0m in \u001b[0;36mmutate_population\u001b[1;34m(population, chance_of_mutation)\u001b[0m\n\u001b[0;32m      2\u001b[0m     \u001b[1;32mfor\u001b[0m \u001b[0mi\u001b[0m \u001b[1;32min\u001b[0m \u001b[0mrange\u001b[0m\u001b[1;33m(\u001b[0m\u001b[0mlen\u001b[0m\u001b[1;33m(\u001b[0m\u001b[0mpopulation\u001b[0m\u001b[1;33m)\u001b[0m\u001b[1;33m)\u001b[0m\u001b[1;33m:\u001b[0m\u001b[1;33m\u001b[0m\u001b[1;33m\u001b[0m\u001b[0m\n\u001b[0;32m      3\u001b[0m         \u001b[1;32mif\u001b[0m \u001b[0mrandom\u001b[0m\u001b[1;33m.\u001b[0m\u001b[0mrandom\u001b[0m\u001b[1;33m(\u001b[0m\u001b[1;33m)\u001b[0m \u001b[1;33m*\u001b[0m \u001b[1;36m100\u001b[0m \u001b[1;33m<\u001b[0m \u001b[0mchance_of_mutation\u001b[0m\u001b[1;33m:\u001b[0m\u001b[1;33m\u001b[0m\u001b[1;33m\u001b[0m\u001b[0m\n\u001b[1;32m----> 4\u001b[1;33m             \u001b[0mpopulation\u001b[0m\u001b[1;33m[\u001b[0m\u001b[0mi\u001b[0m\u001b[1;33m]\u001b[0m \u001b[1;33m=\u001b[0m \u001b[0mmutate_word\u001b[0m\u001b[1;33m(\u001b[0m\u001b[0mpopulation\u001b[0m\u001b[1;33m[\u001b[0m\u001b[0mi\u001b[0m\u001b[1;33m]\u001b[0m\u001b[1;33m)\u001b[0m\u001b[1;33m\u001b[0m\u001b[1;33m\u001b[0m\u001b[0m\n\u001b[0m\u001b[0;32m      5\u001b[0m     \u001b[1;32mreturn\u001b[0m \u001b[0mpopulation\u001b[0m\u001b[1;33m\u001b[0m\u001b[1;33m\u001b[0m\u001b[0m\n",
      "\u001b[1;32m<ipython-input-9-050f367e90bc>\u001b[0m in \u001b[0;36mmutate_word\u001b[1;34m(word)\u001b[0m\n\u001b[0;32m      2\u001b[0m     \u001b[1;32mfor\u001b[0m \u001b[0mi\u001b[0m \u001b[1;32min\u001b[0m \u001b[0mrange\u001b[0m\u001b[1;33m(\u001b[0m\u001b[0mlen\u001b[0m\u001b[1;33m(\u001b[0m\u001b[0mword\u001b[0m\u001b[1;33m)\u001b[0m\u001b[1;33m)\u001b[0m\u001b[1;33m:\u001b[0m\u001b[1;33m\u001b[0m\u001b[1;33m\u001b[0m\u001b[0m\n\u001b[0;32m      3\u001b[0m         \u001b[1;32mif\u001b[0m \u001b[0mword\u001b[0m\u001b[1;33m[\u001b[0m\u001b[0mi\u001b[0m\u001b[1;33m]\u001b[0m \u001b[1;33m!=\u001b[0m \u001b[0mpassword\u001b[0m\u001b[1;33m[\u001b[0m\u001b[0mi\u001b[0m\u001b[1;33m]\u001b[0m\u001b[1;33m:\u001b[0m\u001b[1;33m\u001b[0m\u001b[1;33m\u001b[0m\u001b[0m\n\u001b[1;32m----> 4\u001b[1;33m             \u001b[0mword\u001b[0m\u001b[1;33m[\u001b[0m\u001b[0mi\u001b[0m\u001b[1;33m]\u001b[0m \u001b[1;33m=\u001b[0m \u001b[0mrandom\u001b[0m\u001b[1;33m.\u001b[0m\u001b[0mchoice\u001b[0m\u001b[1;33m(\u001b[0m\u001b[0mstring\u001b[0m\u001b[1;33m.\u001b[0m\u001b[0mascii_letters\u001b[0m \u001b[1;33m+\u001b[0m \u001b[0mstring\u001b[0m\u001b[1;33m.\u001b[0m\u001b[0mdigits\u001b[0m\u001b[1;33m)\u001b[0m\u001b[1;33m\u001b[0m\u001b[1;33m\u001b[0m\u001b[0m\n\u001b[0m\u001b[0;32m      5\u001b[0m \u001b[1;33m\u001b[0m\u001b[0m\n\u001b[0;32m      6\u001b[0m \u001b[1;33m\u001b[0m\u001b[0m\n",
      "\u001b[1;31mTypeError\u001b[0m: 'str' object does not support item assignment"
     ]
    }
   ],
   "source": [
    "password = '1HanDong1'\n",
    "min_len = 2\n",
    "max_len = 10\n",
    "n_generation = 300\n",
    "population = 100\n",
    "best_sample = 20\n",
    "lucky_sample = 20\n",
    "num_child = 5\n",
    "chance_of_mutation = 10\n",
    "\n",
    "pop = generate_population(size=population, min_len=min_len, max_len=max_len)\n",
    "\n",
    "for g in range(n_generation):\n",
    "    pop_sorted, pred_len = compute_performace(population=pop, password=password)\n",
    "\n",
    "    if int(pop_sorted[0][1]) == 100:\n",
    "        print('SUCCESS! The password is %s' % (pop_sorted[0][0]))\n",
    "        break\n",
    "    \n",
    "    survivors = select_survivors(population_sorted=pop_sorted, best_sample=best_sample, lucky_sample=lucky_sample, password_len=pred_len)\n",
    "    print(\"Password length must be\",pred_len)\n",
    "    \n",
    "    children = create_children(parents=survivors, num_child=num_child)\n",
    "\n",
    "    new_generation = mutate_population(population=children, chance_of_mutation=10)\n",
    "    \n",
    "    pop = new_generation\n",
    "    \n",
    "    print('===== %sth Generation =====' % (g + 1))\n",
    "    print(pop_sorted[0])"
   ]
  },
  {
   "cell_type": "code",
   "execution_count": null,
   "metadata": {},
   "outputs": [],
   "source": []
  },
  {
   "cell_type": "code",
   "execution_count": null,
   "metadata": {},
   "outputs": [],
   "source": []
  },
  {
   "cell_type": "code",
   "execution_count": null,
   "metadata": {},
   "outputs": [],
   "source": []
  }
 ],
 "metadata": {
  "kernelspec": {
   "display_name": "Python 3",
   "language": "python",
   "name": "python3"
  },
  "language_info": {
   "codemirror_mode": {
    "name": "ipython",
    "version": 3
   },
   "file_extension": ".py",
   "mimetype": "text/x-python",
   "name": "python",
   "nbconvert_exporter": "python",
   "pygments_lexer": "ipython3",
   "version": "3.6.10"
  }
 },
 "nbformat": 4,
 "nbformat_minor": 4
}
